{
 "cells": [
  {
   "cell_type": "code",
   "execution_count": 36,
   "metadata": {
    "ExecuteTime": {
     "end_time": "2019-03-16T02:48:07.464010Z",
     "start_time": "2019-03-16T02:48:07.459976Z"
    }
   },
   "outputs": [
    {
     "name": "stdout",
     "output_type": "stream",
     "text": [
      "/home/minh/School/CS249\n"
     ]
    }
   ],
   "source": [
    "%cd .."
   ]
  },
  {
   "cell_type": "code",
   "execution_count": 37,
   "metadata": {
    "ExecuteTime": {
     "end_time": "2019-03-16T02:48:07.746855Z",
     "start_time": "2019-03-16T02:48:07.744286Z"
    }
   },
   "outputs": [],
   "source": [
    "import logging\n",
    "from src import dh \n",
    "from src import mrf\n",
    "import argparse\n",
    "import pickle\n",
    "import numpy as np\n",
    "import os"
   ]
  },
  {
   "cell_type": "code",
   "execution_count": 38,
   "metadata": {
    "ExecuteTime": {
     "end_time": "2019-03-16T02:48:08.110897Z",
     "start_time": "2019-03-16T02:48:08.107694Z"
    }
   },
   "outputs": [],
   "source": [
    "_LOGGER = logging.getLogger(__name__)\n",
    "_LOGGER.setLevel(logging.DEBUG)"
   ]
  },
  {
   "cell_type": "code",
   "execution_count": 53,
   "metadata": {
    "ExecuteTime": {
     "end_time": "2019-03-16T03:05:53.777028Z",
     "start_time": "2019-03-16T03:05:53.773980Z"
    }
   },
   "outputs": [],
   "source": [
    "class args:\n",
    "    p = 0.8\n",
    "    n_papers = -1\n",
    "    n_epochs = 5\n",
    "    lr=0.1\n",
    "    is_directional=True"
   ]
  },
  {
   "cell_type": "code",
   "execution_count": 55,
   "metadata": {
    "ExecuteTime": {
     "end_time": "2019-03-16T03:06:00.520823Z",
     "start_time": "2019-03-16T03:06:00.435806Z"
    }
   },
   "outputs": [],
   "source": [
    "model_name = \"PaperMRF_p={}_lr={}_is_directional={}_n_papers={}\".format(args.p, args.lr, args.is_directional, args.n_papers)\n",
    "\n",
    "paper_set = dh.PAPER_SET.copy()\n",
    "references = dh.REFERENCES.copy()\n",
    "labels = dh.PAPER_TOPIC_LABELS.copy()\n",
    "\n",
    "#only keeping some papers\n",
    "paper_set = set(list(paper_set)[:args.n_papers])\n",
    "\n",
    "#keeping only paper_set and only p% of them\n",
    "test_papers = []\n",
    "del_list = []\n",
    "for key in labels:\n",
    "    if not key in paper_set:\n",
    "        del_list.append(key)\n",
    "    else:\n",
    "        if np.random.uniform() > args.p:\n",
    "            test_papers.append(key)\n",
    "            del_list.append(key)\n",
    "for key in del_list:\n",
    "    del labels[key]\n",
    "\n",
    "#removing all papers not in paper_set from references\n",
    "del_list = []\n",
    "for key in references:\n",
    "    if not key in paper_set:\n",
    "        del_list.append(key)\n",
    "    references[key].intersection_update(paper_set)\n",
    "\n",
    "for key in del_list:\n",
    "    del references[key]\n"
   ]
  },
  {
   "cell_type": "code",
   "execution_count": 56,
   "metadata": {
    "ExecuteTime": {
     "end_time": "2019-03-16T03:06:01.993817Z",
     "start_time": "2019-03-16T03:06:01.990408Z"
    }
   },
   "outputs": [],
   "source": [
    "model = mrf.PaperMRF(\n",
    "    papers=dh.PAPER_SET,\n",
    "    n_topics=dh.N_TOPICS,\n",
    "    references=dh.REFERENCES,\n",
    "    labels=labels,    \n",
    ")"
   ]
  },
  {
   "cell_type": "code",
   "execution_count": 57,
   "metadata": {
    "ExecuteTime": {
     "end_time": "2019-03-16T03:08:15.133103Z",
     "start_time": "2019-03-16T03:06:06.138331Z"
    }
   },
   "outputs": [
    {
     "name": "stderr",
     "output_type": "stream",
     "text": [
      "training model for 5 epochs\n",
      "training model for 5 epochs\n"
     ]
    }
   ],
   "source": [
    "_LOGGER.debug(\"training model for {} epochs\".format(args.n_epochs))\n",
    "losses = model.run_EM_algorthm(args.n_epochs, lr=args.lr)"
   ]
  },
  {
   "cell_type": "code",
   "execution_count": 47,
   "metadata": {
    "ExecuteTime": {
     "end_time": "2019-03-16T02:51:59.915855Z",
     "start_time": "2019-03-16T02:51:59.913188Z"
    }
   },
   "outputs": [],
   "source": [
    "dist =  model.inferer.get_marginals('46455')"
   ]
  },
  {
   "cell_type": "code",
   "execution_count": 63,
   "metadata": {
    "ExecuteTime": {
     "end_time": "2019-03-16T03:09:47.759942Z",
     "start_time": "2019-03-16T03:09:47.757916Z"
    }
   },
   "outputs": [],
   "source": [
    "inferer = model.inferer"
   ]
  },
  {
   "cell_type": "code",
   "execution_count": 65,
   "metadata": {
    "ExecuteTime": {
     "end_time": "2019-03-16T03:10:22.860357Z",
     "start_time": "2019-03-16T03:10:22.855919Z"
    }
   },
   "outputs": [
    {
     "data": {
      "text/plain": [
       "2"
      ]
     },
     "execution_count": 65,
     "metadata": {},
     "output_type": "execute_result"
    }
   ],
   "source": [
    "np.argmax(inferer.get_marginals(test_papers[0]))"
   ]
  },
  {
   "cell_type": "code",
   "execution_count": 68,
   "metadata": {
    "ExecuteTime": {
     "end_time": "2019-03-16T03:11:48.288829Z",
     "start_time": "2019-03-16T03:11:48.285301Z"
    }
   },
   "outputs": [
    {
     "data": {
      "text/plain": [
       "f(89388, 12718)"
      ]
     },
     "execution_count": 68,
     "metadata": {},
     "output_type": "execute_result"
    }
   ],
   "source": []
  },
  {
   "cell_type": "code",
   "execution_count": null,
   "metadata": {},
   "outputs": [],
   "source": []
  }
 ],
 "metadata": {
  "kernelspec": {
   "display_name": "Python 3",
   "language": "python",
   "name": "python3"
  },
  "language_info": {
   "codemirror_mode": {
    "name": "ipython",
    "version": 3
   },
   "file_extension": ".py",
   "mimetype": "text/x-python",
   "name": "python",
   "nbconvert_exporter": "python",
   "pygments_lexer": "ipython3",
   "version": "3.7.2"
  }
 },
 "nbformat": 4,
 "nbformat_minor": 2
}
